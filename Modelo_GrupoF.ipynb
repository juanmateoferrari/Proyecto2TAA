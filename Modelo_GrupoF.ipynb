{
  "nbformat": 4,
  "nbformat_minor": 0,
  "metadata": {
    "colab": {
      "provenance": []
    },
    "kernelspec": {
      "name": "python3",
      "display_name": "Python 3"
    },
    "language_info": {
      "name": "python"
    }
  },
  "cells": [
    {
      "cell_type": "code",
      "execution_count": null,
      "metadata": {
        "id": "cP93SwfmXNfm"
      },
      "outputs": [],
      "source": [
        "from google.colab import drive\n",
        "drive.mount('/content/drive')\n",
        "\n",
        "!pip install tensorflow-addons\n",
        "import tensorflow as tf\n",
        "import joblib\n",
        "import pandas as pd\n",
        "import numpy as np"
      ]
    },
    {
      "cell_type": "code",
      "source": [
        "image_directory = '/content/drive/MyDrive/conjuntotest/test'\n",
        "ruta_modelo =  '/content/drive/MyDrive/FACULTAD/TAA/modelo_final.pkl'"
      ],
      "metadata": {
        "id": "ukXYeCMIX67Z"
      },
      "execution_count": 2,
      "outputs": []
    },
    {
      "cell_type": "code",
      "source": [
        "# se crea el dataset\n",
        "test_dataset = tf.keras.utils.image_dataset_from_directory(\n",
        "    image_directory,\n",
        "    labels=None,\n",
        "    class_names=None,\n",
        "    batch_size=32,\n",
        "    image_size=(615, 900),\n",
        "    shuffle=False,\n",
        "    )\n",
        "\n",
        "# se aplica el mismo preprocesamiento que al entrenar\n",
        "test_preprocessed = test_dataset.map(lambda X: (tf.keras.applications.resnet50.preprocess_input(X)))"
      ],
      "metadata": {
        "colab": {
          "base_uri": "https://localhost:8080/"
        },
        "id": "-qYMlRIZYXhs",
        "outputId": "4dd3a241-eece-4b3c-a628-0afebf9a9a40"
      },
      "execution_count": 6,
      "outputs": [
        {
          "output_type": "stream",
          "name": "stdout",
          "text": [
            "Found 53576 files belonging to 1 classes.\n"
          ]
        }
      ]
    },
    {
      "cell_type": "code",
      "source": [
        "# se carga el modelo\n",
        "model = joblib.load(ruta_modelo)\n",
        "\n",
        "# infiero\n",
        "y_test =  model.predict(test_preprocessed)"
      ],
      "metadata": {
        "id": "GzHJDQhFYXfT"
      },
      "execution_count": 1,
      "outputs": []
    },
    {
      "cell_type": "code",
      "source": [
        "# paso los vectores que predije a valores numericos\n",
        "y_test_discreto = np.argmax(y_test, axis=1)\n",
        "\n",
        "# obtengo los nombres de las imagenes\n",
        "file_paths = test_dataset.file_paths\n",
        "img_names = [x.split('.')[0].split('/')[-1] for x in file_paths]\n",
        "\n",
        "# Crear un DataFrame con los nombres de las imágenes y las predicciones\n",
        "results = pd.DataFrame({'image': img_names, 'level': y_test_discreto})\n",
        "\n",
        "# Generar un archivo CSV con los resultados\n",
        "results.to_csv('submission.csv', index=False)"
      ],
      "metadata": {
        "id": "wUB8wWWAYXcz"
      },
      "execution_count": null,
      "outputs": []
    },
    {
      "cell_type": "code",
      "source": [],
      "metadata": {
        "id": "cxUeHGPhYXaE"
      },
      "execution_count": null,
      "outputs": []
    },
    {
      "cell_type": "code",
      "source": [],
      "metadata": {
        "id": "xm6bMmh3YXSs"
      },
      "execution_count": null,
      "outputs": []
    }
  ]
}